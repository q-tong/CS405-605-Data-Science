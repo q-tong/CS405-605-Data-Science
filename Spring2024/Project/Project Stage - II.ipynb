{
 "cells": [
  {
   "cell_type": "markdown",
   "metadata": {},
   "source": [
    "## Project Stage - II (Data Modeling)"
   ]
  },
  {
   "cell_type": "markdown",
   "metadata": {},
   "source": [
    "## Goals\n",
    "\n",
    "The goal of Stage II is to develop the data for modeling and comparative analysis. Here you will be comparing how US is doing with other countries in COVID cases and deaths. And you will be also analysing county based information for different states in the US. Since COVID dataset is huge, we will focus the analysis on selected dates, starts from 2020, July - 2020, December. \n"
   ]
  },
  {
   "cell_type": "markdown",
   "metadata": {},
   "source": [
    "### Tasks:\n",
    "\n",
    "#### Task 1: (100 pts)\n",
    "- Team: (50 pts) (Each question 10 pts, markdown 10 pts)\n",
    "    - Compare the weekly statistics (mean, median, mode) for number of cases and deaths across US.  \n",
    "    - Compare the data against other countries of the world. Data at: https://ourworldindata.org/coronavirus-source-data\n",
    "        - Choose at least 5 similar populations countries to compare. \n",
    "    - Plot weekly trends (cases and deaths) of US and compare other countries. Utilize aggregrate, normalized by population, difference in cases, and log normalized values. (hint: do normalization: number of cases per 100,000, and then use np.log10())\n",
    "    - Identify the peak weeks of the cases and deaths in US and other countries. Try to do background research to see what the reasoning for the peaks can be (holidays, vacations, travel, weather, etc). Explain with a description in the notebooks. \n",
    "- Member: (50 pts) (Each question 10 pts, markdown 10 pts)\n",
    "    - Generate weekly statistics (mean, median, mode) for number of cases and deaths across a specific \"state\". \n",
    "    - Compare the data against other states (compare against 5 states). Normalize by population, use a normalization factor which is able to identify cases and deaths, for example try per 10,000 or 100,000 (this depends on the population). Plot the values across the weeks in a line plot for the 5 states in a single graph. Describe why the rates differ across these states in the notebook. Identify the peaks, do they compare with the US pattern?\n",
    "    - Identify five counties within a state of your choice with high cases and death rates. \n",
    "    - Plot weekly trends (cases and deaths) for the top 5 infected counties. Show plots by raw values and log normalized values. Describe what is causing them and what were the peaks. Do the counties follow state pattern. \n",
    "    \n",
    "\n",
    "**Deliverable**\n",
    "- Each member creates separate notebooks for member tasks (with your name). Upload all notebooks and reports to canvas.\n",
    "- Presentation in class.\n",
    "\n",
    "*PS: Try to use `Plotly` for your charts. Will be useful in Stage IV. As plotly graphs are intereactive they are not rendered properly in Github. You can use the approach here to render static images: https://plotly.com/python/static-image-export/. Submission to the repository should contain static images in the notebook.*"
   ]
  },
  {
   "cell_type": "markdown",
   "metadata": {},
   "source": [
    "Clarification: (1) If the first date in July 2020 is not Monday, you can start analysis from the first Monday in July, and the end date should be the last Sunday in December, 2020. (2) Group members can have some overlap in choosing the states, since there is little chance that all members work on the same selected states."
   ]
  },
  {
   "cell_type": "code",
   "execution_count": null,
   "metadata": {},
   "outputs": [],
   "source": []
  },
  {
   "cell_type": "markdown",
   "metadata": {},
   "source": [
    "Presentation order:"
   ]
  },
  {
   "cell_type": "code",
   "execution_count": 4,
   "metadata": {},
   "outputs": [
    {
     "name": "stdout",
     "output_type": "stream",
     "text": [
      "Presentation 1: Group 2\n",
      "Presentation 2: Group 1\n",
      "Presentation 3: Group 3\n"
     ]
    }
   ],
   "source": [
    "import random\n",
    "group = ['Group 1','Group 2','Group 3']\n",
    "random.shuffle(group)\n",
    "for i, group in enumerate(group, start=1):\n",
    "    print(f\"Presentation {i}: {group}\")"
   ]
  },
  {
   "cell_type": "code",
   "execution_count": null,
   "metadata": {},
   "outputs": [],
   "source": []
  }
 ],
 "metadata": {
  "kernelspec": {
   "display_name": "Python 3 (ipykernel)",
   "language": "python",
   "name": "python3"
  },
  "language_info": {
   "codemirror_mode": {
    "name": "ipython",
    "version": 3
   },
   "file_extension": ".py",
   "mimetype": "text/x-python",
   "name": "python",
   "nbconvert_exporter": "python",
   "pygments_lexer": "ipython3",
   "version": "3.9.13"
  },
  "nteract": {
   "version": "0.28.0"
  }
 },
 "nbformat": 4,
 "nbformat_minor": 2
}
