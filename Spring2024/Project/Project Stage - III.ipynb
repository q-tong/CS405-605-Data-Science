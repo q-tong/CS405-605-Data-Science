{
 "cells": [
  {
   "cell_type": "markdown",
   "metadata": {},
   "source": [
    "## Project Stage - III (Distributions and Hypothesis Testing)"
   ]
  },
  {
   "cell_type": "markdown",
   "metadata": {},
   "source": [
    "## Goals\n",
    "\n",
    "The goal of Stage III is to develop distributions and formal hypothesis tests for the intuitions you had in Stage I and II and utilize statistical modeling to prove/disprove them.\n",
    "\n",
    "Notice that it is individual work this time!"
   ]
  },
  {
   "cell_type": "markdown",
   "metadata": {},
   "source": [
    "#### Task: (100 pts)\n",
    "- Member:\n",
    "    - Use the state data (the state of your choice) generated in Stage II to fit a distribution to the number of COVID-19 cases.  (25 points)\n",
    "        - Graphically plot the distribution and describe the distribution statistics. If using discrete values, calculate the Probability Mass Function for the individual values or range (if using histogram) and plot that.\n",
    "        - Describe the type of distribution (modality) and its statistics (moments of a distribution - center, variance, skewness, kurtosis) in the report and the notebook.\n",
    "        - Compare the distribution and its statistics to 5 other states of your choosing. Describe if the distributions look different and what does that imply.\n",
    "    - Model a poission distribution of COVID-19 cases and deaths of a state and compare to other 5 states. Describe how the poission modeling is different from the first modeling you did. (25 points)\n",
    "        - For example, number of new cases and deaths per 100,000 population. \n",
    "        - Hint - the parameter for a poission's distribution will be its mean value. Then for the minimum and maximum range of covid cases you are calculating probability mass function to observe the probability at different points. \n",
    "    \n",
    "    - Perform corelation between Enrichment data valiables and COVID-19 cases to observe any patterns. (20 points)\n",
    "        - You can compare either within your chosen specific state or among different states with the different enrichment variables. Within the state you can compare the county based covid data to enrichment data for correlation. Between states you would need to aggregate to state level data and then perform correlation. Both covid and enrichment data will need to be normalized for population. For number of covid cases you can use a measure of center value (median or mean) to compare the number of cases. \n",
    "    - Formulate hypothesis between Enrichment data and number of cases to be compared against states. Choose 3 different variables to compare against. (30 points)\n",
    "        - For example: *Does higher employment data lead to higher covid case numbers or more rapid increase in covid cases.* \n",
    "\n",
    "\n",
    "**Deliverable**\n",
    "- Each member creates separate notebooks for member tasks. Upload all notebooks and reports to canvas. \n",
    "\n",
    "*PS: Try to use `Plotly` for your charts. Will be useful in Stage IV. As plotly graphs are intereactive they are not rendered properly in Github. You can use the approach here to render static images: https://plotly.com/python/static-image-export/. Submission to the repository should contain static images in the notebook.*"
   ]
  },
  {
   "cell_type": "markdown",
   "metadata": {
    "collapsed": true,
    "jupyter": {
     "outputs_hidden": false,
     "source_hidden": false
    },
    "nteract": {
     "transient": {
      "deleting": false
     }
    }
   },
   "source": [
    "In the upcoming Project Stage III Review presentation on March 11, 2024, each group will have up to 15 minutes slot to showcase their results. We only have individual work this time, so everyone is required to showup and do the presentation. Please ensure that your group succinctly summarizes your findings, figures, and hypothesis questions. It's strongly suggested that you use PowerPoint for your presentation. This will also facilitate seamless compilation of everyone's contributions for our end-of-semester final presentation."
   ]
  },
  {
   "cell_type": "markdown",
   "metadata": {},
   "source": [
    "Presentation order:"
   ]
  },
  {
   "cell_type": "code",
   "execution_count": 1,
   "metadata": {},
   "outputs": [
    {
     "name": "stdout",
     "output_type": "stream",
     "text": [
      "Presentation 1: Group 1\n",
      "Presentation 2: Group 2\n",
      "Presentation 3: Group 3\n"
     ]
    }
   ],
   "source": [
    "import random\n",
    "group = ['Group 1','Group 2','Group 3']\n",
    "random.shuffle(group)\n",
    "for i, group in enumerate(group, start=1):\n",
    "    print(f\"Presentation {i}: {group}\")"
   ]
  },
  {
   "cell_type": "code",
   "execution_count": null,
   "metadata": {},
   "outputs": [],
   "source": []
  }
 ],
 "metadata": {
  "kernelspec": {
   "display_name": "Python 3 (ipykernel)",
   "language": "python",
   "name": "python3"
  },
  "language_info": {
   "codemirror_mode": {
    "name": "ipython",
    "version": 3
   },
   "file_extension": ".py",
   "mimetype": "text/x-python",
   "name": "python",
   "nbconvert_exporter": "python",
   "pygments_lexer": "ipython3",
   "version": "3.10.9"
  },
  "nteract": {
   "version": "0.28.0"
  }
 },
 "nbformat": 4,
 "nbformat_minor": 2
}
