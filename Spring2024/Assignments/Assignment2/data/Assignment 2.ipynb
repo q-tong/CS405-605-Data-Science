{
 "cells": [
  {
   "cell_type": "markdown",
   "id": "32a07eed",
   "metadata": {},
   "source": [
    "# Data Wrangling with the Titanic Dataset"
   ]
  },
  {
   "cell_type": "markdown",
   "id": "06255e00",
   "metadata": {},
   "source": [
    "## Dataset Description\n",
    "\n",
    "The Titanic dataset contains information about the passengers on the Titanic. Key columns include:\n",
    "\n",
    "- PassengerId: Identifier for each passenger\n",
    "- Survived: Indicates if a passenger survived (1) or not (0)\n",
    "- Pclass: Ticket class (1st, 2nd, or 3rd class)\n",
    "- Name: Passenger's name\n",
    "- Sex: Passenger's gender\n",
    "- Age: Passenger's age\n",
    "- SibSp: Number of siblings/spouses aboard\n",
    "- Parch: Number of parents/children aboard\n",
    "- Ticket: Ticket number\n",
    "- Fare: Passenger fare\n",
    "- Cabin: Cabin number\n",
    "- Embarked: Port of Embarkation (C = Cherbourg, Q = Queenstown, S = Southampton)"
   ]
  },
  {
   "cell_type": "markdown",
   "id": "475ca905",
   "metadata": {},
   "source": [
    "## Data Preparations: (10 points)\n",
    "\n",
    "Download the dataset `titanic.xls` in your local computer and load it into a DataFrame named titanic_df. Display the first 10 rows of dataset to understand the data structure. "
   ]
  },
  {
   "cell_type": "code",
   "execution_count": null,
   "id": "90378d4a",
   "metadata": {},
   "outputs": [],
   "source": []
  },
  {
   "cell_type": "markdown",
   "id": "743511bb",
   "metadata": {},
   "source": [
    "## Inner Join: (20 points)\n",
    "\n",
    "Create two DataFrames from titanic_df: one containing PassengerId, Name, and Pclass, and the other containing PassengerId, Survived, and Age.\n",
    "- Task: Perform an inner join on these two DataFrames using PassengerId as the key. \n"
   ]
  },
  {
   "cell_type": "code",
   "execution_count": null,
   "id": "41543f08",
   "metadata": {},
   "outputs": [],
   "source": []
  },
  {
   "cell_type": "markdown",
   "id": "e2f495de",
   "metadata": {},
   "source": [
    "## Outer Join: (20 points)\n",
    "\n",
    "Perform an outer join on the previous two DataFrames. Discuss the differences in the results compared to the inner join. "
   ]
  },
  {
   "cell_type": "code",
   "execution_count": null,
   "id": "b6947bd2",
   "metadata": {},
   "outputs": [],
   "source": []
  },
  {
   "cell_type": "markdown",
   "id": "863f4614",
   "metadata": {},
   "source": [
    "## GroupBy Exercise: (20 points)\n",
    "\n",
    "Use the original titanic_df.\n",
    "- Task 1: Group by Pclass and calculate the average Fare and Age for each class.\n",
    "- Task 2: Group by Embarked and Sex, and find the count of passengers for each combination."
   ]
  },
  {
   "cell_type": "code",
   "execution_count": null,
   "id": "e95be94c",
   "metadata": {},
   "outputs": [],
   "source": []
  },
  {
   "cell_type": "markdown",
   "id": "f27162fe",
   "metadata": {},
   "source": [
    "## Explore More: (30 points)\n",
    "\n",
    "- Task 1. Use the `groupby` method to calculate the proportion of passengers that survived by sex. \n",
    "- Task 2. Create age categories: children (under 14 years), adolescents (14-20), adult (21-64), and senior(65+), and calculate survival proportions by age category, pclass and sex. \n",
    "- Task 3. Use markdown to describe your analysis of the titanic dataset. Eg, will the children or senior or women have high survival rate? "
   ]
  },
  {
   "cell_type": "code",
   "execution_count": null,
   "id": "a781e22f",
   "metadata": {},
   "outputs": [],
   "source": []
  }
 ],
 "metadata": {
  "kernelspec": {
   "display_name": "Python 3 (ipykernel)",
   "language": "python",
   "name": "python3"
  },
  "language_info": {
   "codemirror_mode": {
    "name": "ipython",
    "version": 3
   },
   "file_extension": ".py",
   "mimetype": "text/x-python",
   "name": "python",
   "nbconvert_exporter": "python",
   "pygments_lexer": "ipython3",
   "version": "3.9.13"
  }
 },
 "nbformat": 4,
 "nbformat_minor": 5
}
