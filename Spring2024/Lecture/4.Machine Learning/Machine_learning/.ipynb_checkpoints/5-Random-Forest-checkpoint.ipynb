{
 "cells": [
  {
   "cell_type": "markdown",
   "metadata": {
    "slideshow": {
     "slide_type": "slide"
    }
   },
   "source": [
    "\n",
    "# Supervised Learning In-Depth: Random Forests"
   ]
  },
  {
   "cell_type": "markdown",
   "metadata": {
    "slideshow": {
     "slide_type": "fragment"
    }
   },
   "source": [
    "||continuous|categorical|\n",
    "|---|---|---|\n",
    "|**supervised**|**regression**|**classification**|\n",
    "|unsupervised|dimension reduction|clustering|\n",
    "\n",
    "Previously we saw, **Decision Trees**. While the algorithm has some good attributes, it suffers from high variance issues.\n",
    "\n",
    "Lets look at a more powerful algorithms which is based on Decision Trees (but tries to remove the variances) called - **Random Forests**."
   ]
  },
  {
   "cell_type": "code",
   "execution_count": 4,
   "metadata": {
    "slideshow": {
     "slide_type": "skip"
    }
   },
   "outputs": [],
   "source": [
    "%matplotlib inline\n",
    "import numpy as np\n",
    "import matplotlib.pyplot as plt\n",
    "from scipy import stats\n",
    "from sklearn.multiclass import OneVsRestClassifier\n",
    "from sklearn.metrics import roc_curve, auc\n",
    "from sklearn.preprocessing import label_binarize\n",
    "\n",
    "# use seaborn plotting defaults\n",
    "import seaborn as sns; sns.set()\n",
    "\n",
    "# import warnings\n",
    "# warnings.filterwarnings('ignore')"
   ]
  },
  {
   "cell_type": "markdown",
   "metadata": {
    "slideshow": {
     "slide_type": "slide"
    }
   },
   "source": [
    "## Motivating Random Forests - Ensemble Learning"
   ]
  },
  {
   "cell_type": "markdown",
   "metadata": {
    "slideshow": {
     "slide_type": "fragment"
    }
   },
   "source": [
    "Random forests are an example of an *ensemble learner* built on decision trees.\n"
   ]
  },
  {
   "cell_type": "markdown",
   "metadata": {
    "slideshow": {
     "slide_type": "fragment"
    }
   },
   "source": [
    "- Combining weak classifiers (of the same type)...\n",
    "    - ... in order to produce a strong classifier\n",
    "        - Condition: diversity among the weak classifiers\n",
    "\n",
    "\n",
    "- Example: Boosting\n",
    "    - Train each new weak classifier focusing on samples misclassified by  previous ones\n",
    "\n",
    "    - Popular implementation: AdaBoost\n",
    "        - Weak classifiers: only need to be better than random guess"
   ]
  },
  {
   "cell_type": "markdown",
   "metadata": {
    "slideshow": {
     "slide_type": "subslide"
    }
   },
   "source": [
    "- So an **Ensemble** is a *meta-estimator* which essentially *averages* the results of many individual estimators which over-fit the data. \n",
    "\n",
    "    - Somewhat surprisingly, the resulting estimates are much more robust and accurate than the individual estimates which make them up!"
   ]
  },
  {
   "cell_type": "markdown",
   "metadata": {
    "slideshow": {
     "slide_type": "subslide"
    }
   },
   "source": [
    "- **Random forest** (or random forests) is an ensemble classifier that consists of many decision trees and outputs the class that is the ***mode*** of the class's output by individual trees.\n",
    "    <br></br>\n",
    "    <br></br>\n",
    "    - The term came from random decision forests that was first proposed by Tin Kam Ho of Bell Labs in 1995.\n",
    "        <br></br>\n",
    "    <br></br>\n",
    "    - The method combines Breiman's \"bagging\" idea and the random selection of features."
   ]
  },
  {
   "cell_type": "markdown",
   "metadata": {
    "slideshow": {
     "slide_type": "subslide"
    }
   },
   "source": [
    "## Bagging \n",
    "\n",
    "- Bagging or ***b**ootstrap **agg**regat**ing*** a technique for reducing the variance of an estimated prediction function. Two steps:\n",
    "    1. Bootstap\n",
    "    2. Aggregration\n",
    "\n",
    "\n"
   ]
  },
  {
   "cell_type": "markdown",
   "metadata": {
    "slideshow": {
     "slide_type": "subslide"
    }
   },
   "source": [
    "### 1. Bootstrap\n",
    "\n",
    "- **$L$**: original learning set composed of P samples"
   ]
  },
  {
   "cell_type": "markdown",
   "metadata": {
    "slideshow": {
     "slide_type": "fragment"
    }
   },
   "source": [
    "- Generate **$b$** learning sets **$N_b$**...\n",
    "<br></br>\n",
    "<br></br>\n",
    "    - ... composed of $N$ samples, $N \\le P$,...\n",
    "    <br></br>\n",
    "<br></br>\n",
    "    - ... obtained by uniform sampling with replacement from $L$\n",
    "        - In consequences, **$N_b$** may contain repeated sample\n"
   ]
  },
  {
   "cell_type": "markdown",
   "metadata": {
    "slideshow": {
     "slide_type": "fragment"
    }
   },
   "source": [
    "\n",
    "- Random forest: $N = p$\n",
    "    - Proportion of unique samples in $N_b$\n",
    "        - The remaining samples can be used for testing"
   ]
  },
  {
   "cell_type": "markdown",
   "metadata": {
    "slideshow": {
     "slide_type": "subslide"
    }
   },
   "source": [
    "<center>\n",
    "<div id=\"container\"> <img src=\"./images/rf1.png\" class=\"center\" alt=\"Random Forest\" style=\"width: 1000px;\"/> \n",
    "</center>"
   ]
  },
  {
   "cell_type": "markdown",
   "metadata": {
    "slideshow": {
     "slide_type": "subslide"
    }
   },
   "source": [
    "### 2. Aggregration\n",
    "\n",
    "- Learning\n",
    "    - For each $N_b$, one classifier $C_b$ is learned\n",
    "\n",
    "\n",
    "\n",
    "<br></br>\n",
    "\n",
    "- Prediction\n",
    "    - S: a new sample\n",
    "    - Aggregation = majority vote among the $b$ predictions/votes $C_b(S)$\n"
   ]
  },
  {
   "cell_type": "markdown",
   "metadata": {
    "slideshow": {
     "slide_type": "subslide"
    }
   },
   "source": [
    "## Bagging (Bootstrap Aggregating)\n",
    "\n",
    "- A bootstrap sample is chosen at random with\treplacement  from the data. Some observations end up in the bootstrap  sample more than once, while others are not included  (“out of bag”).\n",
    "\n",
    "\n",
    "\n",
    "- Bagging reduces the variance of the base learner but has  limited effect on the bias.\n",
    "\n",
    "\n",
    "- It’s most effective if we use strong\tbase learners that have  very little bias but high variance (unstable). E.g. trees.\n",
    "\n",
    "\n",
    "- Both bagging and boosting are examples of “ensemble  learners” that were popular in machine learning in the ‘90s.\n"
   ]
  },
  {
   "cell_type": "markdown",
   "metadata": {
    "slideshow": {
     "slide_type": "subslide"
    }
   },
   "source": [
    "## Algorithm\n",
    "\n",
    "- Each tree is constructed using the following algorithm:\n",
    "\n",
    "    1. Let the number of training cases be ***N***, and the number of variables in the classifier be ***M***.\n",
    "    <br></br>\n",
    "    <br></br>\n",
    "    2. We are told the number ***m*** of input variables to be used to determine the decision at a node of the tree; ***m*** should be much less than ***M***.\n",
    "    <br></br>\n",
    "    <br></br>\n",
    "    3. Choose a training set for this tree by choosing ***n*** times with replacement from all ***N*** available training cases (i.e. take a bootstrap sample). Use the rest of the cases to estimate the error of the tree, by predicting their classes.\n",
    "    <br></br>\n",
    "    <br></br>\n",
    "    4. For each node of the tree, randomly choose ***m*** variables on which to base the decision at that node. Calculate the best split based on these ***m*** variables in the training set.\n",
    "    <br></br>\n",
    "    <br></br>\n",
    "    5. Each tree is fully grown and not pruned (as may be done in constructing a normal tree classifier).\n"
   ]
  },
  {
   "cell_type": "markdown",
   "metadata": {
    "slideshow": {
     "slide_type": "fragment"
    }
   },
   "source": [
    "- For prediction a new sample is pushed down the tree. It is assigned the label of the training sample in the terminal node it ends up in. This procedure is iterated over all trees in the ensemble, and the average vote of all trees is reported as random forest prediction.\n"
   ]
  },
  {
   "cell_type": "markdown",
   "metadata": {
    "slideshow": {
     "slide_type": "subslide"
    }
   },
   "source": [
    "## Random Forest\n",
    "\n",
    "1. Grow a ***forest*** of many trees. (Sci-kit default is 100)\n",
    "   <br></br>\n",
    "    <br></br>\n",
    "2. Grow each tree on an independent ***bootstrap sample($N_b$)*** from  the training data.\n",
    "   <br></br>\n",
    "    <br></br>\n",
    "3. At each node:\n",
    "    1. Select ***m variables at random*** out of all **M** possible  variables (independently for each node).\n",
    "    2. Find the best split on the selected **m** variables.\n",
    "   <br></br>\n",
    "    <br></br>\n",
    "4. Grow the trees to maximum depth (classification).  \n",
    "   <br></br>\n",
    "    <br></br>\n",
    "5. Vote/average the trees to get predictions for new data.\n",
    "\n"
   ]
  },
  {
   "cell_type": "markdown",
   "metadata": {
    "slideshow": {
     "slide_type": "subslide"
    }
   },
   "source": [
    "<center><div id=\"container\"> <img src=\"./images/rf2.png\" class=\"center\" alt=\"Random Forest\" style=\"width: 600px;\"/> </center>"
   ]
  },
  {
   "cell_type": "markdown",
   "metadata": {
    "slideshow": {
     "slide_type": "subslide"
    }
   },
   "source": [
    "<center><div id=\"container\"> <img src=\"./images/rf3.png\" class=\"center\" alt=\"Random Forest\" style=\"width: 700px;\"/> </center>"
   ]
  },
  {
   "cell_type": "markdown",
   "metadata": {
    "slideshow": {
     "slide_type": "subslide"
    }
   },
   "source": [
    "<center><div id=\"container\"> <img src=\"./images/rf4.png\" class=\"center\" alt=\"Random Forest\" style=\"width: 800px;\"/> \n",
    "    </center>"
   ]
  },
  {
   "cell_type": "markdown",
   "metadata": {
    "slideshow": {
     "slide_type": "subslide"
    }
   },
   "source": [
    "### Testing with Random Forest\n",
    "\n",
    "- In a Random Forest with $T$ trees, if a test point $\\textbf{v}$ is pushed through all trees (starting at the root till the leaves). The classification is given by:\n",
    "    <br></br>\n",
    "    $$p(c|\\textbf{v}) = \\frac{1}{T}\\sum_{t=1}^{T}p_t(c|\\textbf{v})$$\n",
    "    <center>\n",
    "    <div id=\"container\"> <img src=\"./images/rf6.png\" class=\"center\" alt=\"Random Forest\" style=\"width: 1000px;\"/> </center>"
   ]
  },
  {
   "cell_type": "markdown",
   "metadata": {
    "slideshow": {
     "slide_type": "subslide"
    }
   },
   "source": [
    "### Improvement over Decision Trees\n",
    "\n",
    "- *Accuracy* – Random Forests is competitive with the best known  machine learning methods (but note the “no free lunch”  theorem).\n",
    "\n",
    "\n",
    "- *Instability* – if we change the data a little, the individual trees  may change but the forest is relatively stable because it is a combination of many trees.\n",
    "    - **Low variance**"
   ]
  },
  {
   "cell_type": "markdown",
   "metadata": {
    "slideshow": {
     "slide_type": "subslide"
    }
   },
   "source": [
    "### Advantages\n",
    "\n",
    "- It is one of the most accurate learning algorithms available. For many data sets, it produces a highly accurate classifier.\n",
    "\n",
    "\n",
    "- It runs efficiently on large databases.\n",
    "\n",
    "\n",
    "- It can handle thousands of input variables without variable deletion.\n",
    "\n",
    "\n",
    "- It gives estimates of what variables are important in the classification.\n",
    "    - Calculate the total amount that the Entropy or Gini index is decreased due to splits over a given predictor, averaged over all $T$ trees. \n",
    "    \n",
    "\n",
    "\n",
    "- It generates an internal unbiased estimate of the generalization error as the forest building progresses.\n",
    "\n",
    "\n",
    "- It has an effective method for estimating missing data and maintains accuracy when a large proportion of the data are missing.\n"
   ]
  },
  {
   "cell_type": "markdown",
   "metadata": {
    "slideshow": {
     "slide_type": "subslide"
    }
   },
   "source": [
    "- It has methods for balancing error in class population unbalanced data sets. \n",
    "\n",
    "\n",
    "- Generated forests can be saved for future use on other data. \n",
    "\n",
    "\n",
    "- Prototypes are computed that give information about the relation between the variables and the classification. \n",
    "\n",
    "\n",
    "- It computes proximities between pairs of cases that can be used in clustering, locating outliers, or (by scaling) give interesting views of the data. \n",
    "\n",
    "\n",
    "- The capabilities of the above can be extended to unlabeled data, leading to unsupervised clustering, data views and outlier detection. \n",
    "\n",
    "\n",
    "- It offers an experimental method for detecting variable interactions.\n"
   ]
  },
  {
   "cell_type": "markdown",
   "metadata": {
    "slideshow": {
     "slide_type": "slide"
    }
   },
   "source": [
    "### Random Forest - Number of Trees\n",
    "\n",
    "- Increasing the number of trees does not cause overfitting\n",
    "<center>\n",
    "<div id=\"container\"> <img src=\"./images/rf5.png\" class=\"center\" alt=\"Random Forest\" style=\"width: 800px;\"/> </center>"
   ]
  },
  {
   "cell_type": "markdown",
   "metadata": {
    "slideshow": {
     "slide_type": "subslide"
    }
   },
   "source": [
    "- Increase in number of trees leads to a smoother boundary\n",
    "\n",
    "<center><div id=\"container\"> <img src=\"./images/rf7.png\" class=\"center\" alt=\"Random Forest\" style=\"width: 800px;\"/> </center>"
   ]
  },
  {
   "cell_type": "markdown",
   "metadata": {
    "slideshow": {
     "slide_type": "slide"
    }
   },
   "source": [
    "### Random Forest - Effect of Classes and Noise\n",
    "\n",
    "<center><div id=\"container\"> <img src=\"./images/rf8.png\" class=\"center\" alt=\"Random Forest\" style=\"width: 800px;\"/> </center>"
   ]
  },
  {
   "cell_type": "markdown",
   "metadata": {
    "slideshow": {
     "slide_type": "slide"
    }
   },
   "source": [
    "### Random Forest - Depth of Trees\n",
    "\n",
    "<center><div id=\"container\"> <img src=\"./images/rf9.png\" class=\"center\" alt=\"Random Forest\" style=\"width: 800px;\"/> </center>\n",
    "    \n",
    "- Tree depth is a key parameter in prevention of under/over fitting"
   ]
  },
  {
   "cell_type": "markdown",
   "metadata": {
    "slideshow": {
     "slide_type": "slide"
    }
   },
   "source": [
    "## Visualizing Using Code: Random Forests\n",
    "\n",
    "There are volumes of theory and precedent about how to randomize these trees, but as an example, let's imagine an ensemble of estimators fit on subsets of the data. We can get an idea of what these might look like as follows:"
   ]
  },
  {
   "cell_type": "code",
   "execution_count": 3,
   "metadata": {
    "slideshow": {
     "slide_type": "subslide"
    }
   },
   "outputs": [
    {
     "data": {
      "application/vnd.jupyter.widget-view+json": {
       "model_id": "89cc526ea1314df4ab67595833ea1cae",
       "version_major": 2,
       "version_minor": 0
      },
      "text/plain": [
       "interactive(children=(Dropdown(description='random_state', options=(0, 100), value=0), Output()), _dom_classes…"
      ]
     },
     "metadata": {},
     "output_type": "display_data"
    }
   ],
   "source": [
    "def fit_randomized_tree(random_state=0):\n",
    "    X, y = make_blobs(n_samples=300, centers=4,\n",
    "                      random_state=0, cluster_std=2.0)\n",
    "    clf = DecisionTreeClassifier(max_depth=15)\n",
    "    \n",
    "    rng = np.random.RandomState(random_state)\n",
    "    i = np.arange(len(y))\n",
    "    rng.shuffle(i)\n",
    "    visualize_tree(clf, X[i[:250]], y[i[:250]], boundaries=False,\n",
    "                   xlim=(X[:, 0].min(), X[:, 0].max()),\n",
    "                   ylim=(X[:, 1].min(), X[:, 1].max()))\n",
    "    \n",
    "from IPython.html.widgets import interact\n",
    "interact(fit_randomized_tree, random_state=[0, 100]);"
   ]
  },
  {
   "cell_type": "markdown",
   "metadata": {
    "slideshow": {
     "slide_type": "subslide"
    }
   },
   "source": [
    "See how the details of the model change as a function of the sample, while the larger characteristics remain the same!\n",
    "The random forest classifier will do something similar to this, but use a combined version of all these trees to arrive at a final answer:"
   ]
  },
  {
   "cell_type": "code",
   "execution_count": 9,
   "metadata": {
    "slideshow": {
     "slide_type": "fragment"
    }
   },
   "outputs": [
    {
     "data": {
      "image/png": "[encoded data removed]",
      "text/plain": [
       "<matplotlib.figure.Figure at 0x7fb927c200d0>"
      ]
     },
     "metadata": {},
     "output_type": "display_data"
    }
   ],
   "source": [
    "from sklearn.ensemble import RandomForestClassifier\n",
    "clf = RandomForestClassifier(n_estimators=100, random_state=0)\n",
    "visualize_tree(clf, X, y, boundaries=False);"
   ]
  },
  {
   "cell_type": "markdown",
   "metadata": {
    "slideshow": {
     "slide_type": "subslide"
    }
   },
   "source": [
    "By averaging over 100 randomly perturbed models, we end up with an overall model which is a much better fit to our data!\n",
    "\n",
    "*(Note: above we randomized the model through sub-sampling... Random Forests use more sophisticated means of randomization, which you can read about in, e.g. the [scikit-learn documentation](http://scikit-learn.org/stable/modules/ensemble.html#forest)*)"
   ]
  },
  {
   "cell_type": "markdown",
   "metadata": {
    "slideshow": {
     "slide_type": "subslide"
    }
   },
   "source": [
    "## Quick Example: Moving to Regression\n",
    "\n",
    "Above we were considering random forests within the context of classification.\n",
    "Random forests can also be made to work in the case of regression (that is, continuous rather than categorical variables). The estimator to use for this is ``sklearn.ensemble.RandomForestRegressor``.\n",
    "\n",
    "Let's quickly demonstrate how this can be used:"
   ]
  },
  {
   "cell_type": "code",
   "execution_count": 10,
   "metadata": {
    "slideshow": {
     "slide_type": "fragment"
    }
   },
   "outputs": [
    {
     "data": {
      "image/png": "[encoded data removed]",
      "text/plain": [
       "<matplotlib.figure.Figure at 0x7fb927cf3090>"
      ]
     },
     "metadata": {},
     "output_type": "display_data"
    }
   ],
   "source": [
    "from sklearn.ensemble import RandomForestRegressor\n",
    "\n",
    "x = 10 * np.random.rand(100)\n",
    "\n",
    "def model(x, sigma=0.3):\n",
    "    fast_oscillation = np.sin(5 * x)\n",
    "    slow_oscillation = np.sin(0.5 * x)\n",
    "    noise = sigma * np.random.randn(len(x))\n",
    "\n",
    "    return slow_oscillation + fast_oscillation + noise\n",
    "\n",
    "y = model(x)\n",
    "plt.errorbar(x, y, 0.3, fmt='o');"
   ]
  },
  {
   "cell_type": "code",
   "execution_count": 11,
   "metadata": {
    "slideshow": {
     "slide_type": "subslide"
    }
   },
   "outputs": [
    {
     "data": {
      "image/png": "[encoded data removed]",
      "text/plain": [
       "<matplotlib.figure.Figure at 0x7fb927dc7550>"
      ]
     },
     "metadata": {},
     "output_type": "display_data"
    }
   ],
   "source": [
    "xfit = np.linspace(0, 10, 1000)\n",
    "yfit = RandomForestRegressor(100).fit(x[:, None], y).predict(xfit[:, None])\n",
    "ytrue = model(xfit, 0)\n",
    "\n",
    "plt.errorbar(x, y, 0.3, fmt='o')\n",
    "plt.plot(xfit, yfit, '-r');\n",
    "plt.plot(xfit, ytrue, '-k', alpha=0.5);"
   ]
  },
  {
   "cell_type": "markdown",
   "metadata": {
    "slideshow": {
     "slide_type": "subslide"
    }
   },
   "source": [
    "As you can see, the non-parametric random forest model is flexible enough to fit the multi-period data, without us even specifying a multi-period model!"
   ]
  },
  {
   "cell_type": "markdown",
   "metadata": {
    "slideshow": {
     "slide_type": "slide"
    }
   },
   "source": [
    "## Example: Random Forest for Classifying Digits\n",
    "\n",
    "We previously saw the **hand-written digits** data. Let's use that here to test the efficacy of the SVM and Random Forest classifiers."
   ]
  },
  {
   "cell_type": "code",
   "execution_count": 12,
   "metadata": {
    "slideshow": {
     "slide_type": "fragment"
    }
   },
   "outputs": [
    {
     "data": {
      "text/plain": [
       "['images', 'data', 'target_names', 'DESCR', 'target']"
      ]
     },
     "execution_count": 12,
     "metadata": {},
     "output_type": "execute_result"
    }
   ],
   "source": [
    "from sklearn.datasets import load_digits\n",
    "digits = load_digits()\n",
    "digits.keys()"
   ]
  },
  {
   "cell_type": "code",
   "execution_count": 13,
   "metadata": {
    "slideshow": {
     "slide_type": "slide"
    }
   },
   "outputs": [
    {
     "name": "stdout",
     "output_type": "stream",
     "text": [
      "(1797, 64)\n",
      "(1797,)\n"
     ]
    }
   ],
   "source": [
    "X = digits.data\n",
    "y = digits.target\n",
    "print(X.shape)\n",
    "print(y.shape)"
   ]
  },
  {
   "cell_type": "markdown",
   "metadata": {
    "slideshow": {
     "slide_type": "subslide"
    }
   },
   "source": [
    "To remind us what we're looking at, we'll visualize the first few data points:"
   ]
  },
  {
   "cell_type": "code",
   "execution_count": 14,
   "metadata": {
    "slideshow": {
     "slide_type": "fragment"
    }
   },
   "outputs": [
    {
     "data": {
      "image/png": "[encoded data removed]",
      "text/plain": [
       "<matplotlib.figure.Figure at 0x7fb928a87f10>"
      ]
     },
     "metadata": {},
     "output_type": "display_data"
    }
   ],
   "source": [
    "# set up the figure\n",
    "fig = plt.figure(figsize=(6, 6))  # figure size in inches\n",
    "fig.subplots_adjust(left=0, right=1, bottom=0, top=1, hspace=0.05, wspace=0.05)\n",
    "\n",
    "# plot the digits: each image is 8x8 pixels\n",
    "for i in range(64):\n",
    "    ax = fig.add_subplot(8, 8, i + 1, xticks=[], yticks=[])\n",
    "    ax.imshow(digits.images[i], cmap=plt.cm.binary)\n",
    "    \n",
    "    # label the image with the target value\n",
    "    ax.text(0, 7, str(digits.target[i]))"
   ]
  },
  {
   "cell_type": "markdown",
   "metadata": {
    "slideshow": {
     "slide_type": "subslide"
    }
   },
   "source": [
    "We can quickly classify the digits using a decision tree as follows:"
   ]
  },
  {
   "cell_type": "code",
   "execution_count": 15,
   "metadata": {
    "collapsed": true,
    "slideshow": {
     "slide_type": "fragment"
    }
   },
   "outputs": [],
   "source": [
    "from sklearn.cross_validation import train_test_split\n",
    "from sklearn import metrics\n",
    "\n",
    "Xtrain, Xtest, ytrain, ytest = train_test_split(X, y, random_state=0)\n",
    "clf = DecisionTreeClassifier(max_depth=11)\n",
    "clf.fit(Xtrain, ytrain)\n",
    "ypred = clf.predict(Xtest)"
   ]
  },
  {
   "cell_type": "markdown",
   "metadata": {
    "slideshow": {
     "slide_type": "subslide"
    }
   },
   "source": [
    "We can check the accuracy of this classifier:"
   ]
  },
  {
   "cell_type": "code",
   "execution_count": 16,
   "metadata": {
    "slideshow": {
     "slide_type": "fragment"
    }
   },
   "outputs": [
    {
     "data": {
      "text/plain": [
       "0.83111111111111113"
      ]
     },
     "execution_count": 16,
     "metadata": {},
     "output_type": "execute_result"
    }
   ],
   "source": [
    "metrics.accuracy_score(ypred, ytest)"
   ]
  },
  {
   "cell_type": "markdown",
   "metadata": {
    "slideshow": {
     "slide_type": "subslide"
    }
   },
   "source": [
    "and for good measure, plot the confusion matrix:"
   ]
  },
  {
   "cell_type": "code",
   "execution_count": 17,
   "metadata": {
    "slideshow": {
     "slide_type": "fragment"
    }
   },
   "outputs": [
    {
     "data": {
      "image/png": "[encoded data removed]",
      "text/plain": [
       "<matplotlib.figure.Figure at 0x7fb927b9eed0>"
      ]
     },
     "metadata": {},
     "output_type": "display_data"
    }
   ],
   "source": [
    "plt.imshow(metrics.confusion_matrix(ypred, ytest),\n",
    "           interpolation='nearest', cmap=plt.cm.binary)\n",
    "plt.grid(False)\n",
    "plt.colorbar()\n",
    "plt.xlabel(\"predicted label\")\n",
    "plt.ylabel(\"true label\");"
   ]
  },
  {
   "cell_type": "code",
   "execution_count": 18,
   "metadata": {
    "slideshow": {
     "slide_type": "subslide"
    }
   },
   "outputs": [
    {
     "name": "stdout",
     "output_type": "stream",
     "text": [
      "             precision    recall  f1-score   support\n",
      "\n",
      "          0       0.92      0.83      0.87        41\n",
      "          1       0.91      0.85      0.88        46\n",
      "          2       0.77      0.79      0.78        43\n",
      "          3       0.73      0.70      0.72        47\n",
      "          4       0.87      0.89      0.88        37\n",
      "          5       0.88      0.84      0.86        50\n",
      "          6       0.94      0.96      0.95        51\n",
      "          7       0.79      0.97      0.87        39\n",
      "          8       0.73      0.83      0.78        42\n",
      "          9       0.79      0.69      0.73        54\n",
      "\n",
      "avg / total       0.83      0.83      0.83       450\n",
      "\n"
     ]
    }
   ],
   "source": [
    "print metrics.classification_report(ypred, ytest)"
   ]
  },
  {
   "cell_type": "code",
   "execution_count": null,
   "metadata": {
    "collapsed": true
   },
   "outputs": [],
   "source": []
  }
 ],
 "metadata": {
  "celltoolbar": "Slideshow",
  "kernelspec": {
   "display_name": "Python 3 (ipykernel)",
   "language": "python",
   "name": "python3"
  },
  "language_info": {
   "codemirror_mode": {
    "name": "ipython",
    "version": 3
   },
   "file_extension": ".py",
   "mimetype": "text/x-python",
   "name": "python",
   "nbconvert_exporter": "python",
   "pygments_lexer": "ipython3",
   "version": "3.9.13"
  }
 },
 "nbformat": 4,
 "nbformat_minor": 1
}
