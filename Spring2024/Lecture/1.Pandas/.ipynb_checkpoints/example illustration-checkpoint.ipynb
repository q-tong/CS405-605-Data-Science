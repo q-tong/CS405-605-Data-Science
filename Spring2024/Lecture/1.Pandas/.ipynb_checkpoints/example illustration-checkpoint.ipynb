{
 "cells": [
  {
   "cell_type": "code",
   "execution_count": null,
   "id": "d2da8fcc",
   "metadata": {},
   "outputs": [],
   "source": [
    "import pandas as pd\n",
    "\n",
    "data = pd.Series([1,2,3],index =['a','b','c'])\n",
    "\n",
    "print(data)"
   ]
  },
  {
   "cell_type": "code",
   "execution_count": null,
   "id": "3b550ed2",
   "metadata": {},
   "outputs": [],
   "source": [
    "new_index = ['a','b','c','d']\n",
    "reindexd_series = data.reindex(new_index)\n",
    "\n",
    "print(reindexd_series)"
   ]
  },
  {
   "cell_type": "code",
   "execution_count": null,
   "id": "db462ba8",
   "metadata": {},
   "outputs": [],
   "source": []
  },
  {
   "cell_type": "code",
   "execution_count": null,
   "id": "ac0c62f8",
   "metadata": {},
   "outputs": [],
   "source": [
    "data = {'A':[1,2,3], 'B':[4,5,6]}\n",
    "df = pd.DataFrame(data, index = ['a','b','c'])\n",
    "\n",
    "print(df)"
   ]
  },
  {
   "cell_type": "code",
   "execution_count": null,
   "id": "efe2f7d0",
   "metadata": {},
   "outputs": [],
   "source": [
    "new_index = ['a','b','c','d']\n",
    "new_columns = ['A', 'B','C']\n",
    "reindexed_df = df.reindex(index = new_index, columns = new_columns)\n",
    "\n",
    "print(reindexed_df)"
   ]
  },
  {
   "cell_type": "code",
   "execution_count": null,
   "id": "c6b7ea57",
   "metadata": {},
   "outputs": [],
   "source": []
  }
 ],
 "metadata": {
  "kernelspec": {
   "display_name": "Python 3 (ipykernel)",
   "language": "python",
   "name": "python3"
  },
  "language_info": {
   "codemirror_mode": {
    "name": "ipython",
    "version": 3
   },
   "file_extension": ".py",
   "mimetype": "text/x-python",
   "name": "python",
   "nbconvert_exporter": "python",
   "pygments_lexer": "ipython3",
   "version": "3.9.13"
  }
 },
 "nbformat": 4,
 "nbformat_minor": 5
}
