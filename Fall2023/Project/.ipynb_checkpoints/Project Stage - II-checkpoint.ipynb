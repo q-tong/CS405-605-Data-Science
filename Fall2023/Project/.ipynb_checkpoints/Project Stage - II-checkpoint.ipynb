{
 "cells": [
  {
   "cell_type": "markdown",
   "metadata": {},
   "source": [
    "## Project Stage - II (Data Modeling)"
   ]
  },
  {
   "cell_type": "markdown",
   "metadata": {},
   "source": [
    "## Goals\n",
    "\n",
    "The goal of Stage II is to develop the data for modeling and comparative analysis. Here you will be comparing how US is doing with other countries in COVID cases and deaths. And you will be also analysing county based information for different states in the US. Since COVID dataset is huge, we will focus the analysis on selected dates, starts from 2020, July - 2020, December. \n"
   ]
  },
  {
   "cell_type": "markdown",
   "metadata": {},
   "source": [
    "### Tasks:\n",
    "\n",
    "#### Task 1: (100 pts)\n",
    "- Team: (50 pts) (Each question 10 pts, markdown 10 pts)\n",
    "    - Compare the weekly statistics (mean, median, mode) for number of cases and deaths across US.  \n",
    "    - Compare the data against other countries of the world. Data at: https://ourworldindata.org/coronavirus-source-data\n",
    "        - Choose at least 5 similar populations countries to compare. \n",
    "    - Plot weekly trends (cases and deaths) of US and compare other countries. Utilize aggregrate, normalized by population, difference in cases, and log normalized values. (hint: do normalization: number of cases per 100,000, and then use np.log10())\n",
    "    - Identify the peak weeks of the cases and deaths in US and other countries. Try to do background research to see what the reasoning for the peaks can be (holidays, vacations, travel, weather, etc). Explain with a description in the notebooks. \n",
    "- Member: (50 pts) (Each question 10 pts, markdown 10 pts)\n",
    "    - Generate weekly statistics (mean, median, mode) for number of cases and deaths across a specific \"state\". \n",
    "    - Compare the data against other states (compare against 5 states). Normalize by population, use a normalization factor which is able to identify cases and deaths, for example try per 10,000 or 100,000 (this depends on the population). Plot the values across the weeks in a line plot for the 5 states in a single graph. Describe why the rates differ across these states in the notebook. Identify the peaks, do they compare with the US pattern?\n",
    "    - Identify five counties within a state of your choice with high cases and death rates. \n",
    "    - Plot weekly trends (cases and deaths) for the top 5 infected counties. Show plots by raw values and log normalized values. Describe what is causing them and what were the peaks. Do the counties follow state pattern. \n",
    "    \n",
    "\n",
    "**Deliverable**\n",
    "- Each member creates separate notebooks for member tasks (with your name). Upload all notebooks and reports to canvas.\n",
    "- Presentation in class.\n",
    "\n",
    "*PS: Try to use `Plotly` for your charts. Will be useful in Stage IV. As plotly graphs are intereactive they are not rendered properly in Github. You can use the approach here to render static images: https://plotly.com/python/static-image-export/. Submission to the repository should contain static images in the notebook.*"
   ]
  },
  {
   "cell_type": "markdown",
   "metadata": {},
   "source": [
    "Clarification: (1) If the first date in July 2020 is not Monday, you can start analysis from the first Monday in July, and the end date should be the last Sunday in December, 2020. (2) Group members can have some overlap in choosing the states, since there is little chance that all members work on the same selected states."
   ]
  },
  {
   "cell_type": "markdown",
   "metadata": {},
   "source": [
    "## Deadline: 10/10/2023"
   ]
  },
  {
   "cell_type": "markdown",
   "metadata": {},
   "source": [
    "### Project Stage II Review Presentation: Oct 12, 2023, 8:00 AM - 9:00 AM."
   ]
  },
  {
   "cell_type": "markdown",
   "metadata": {},
   "source": [
    "In our upcoming Project Stage II Review presentation on October 12, 2023, each group will have a 5-8 minutes slot to showcase their coding efforts and share the results/reports achieved as a team, as well as individual contributions. You have the flexibility to create your presentation using Microsoft PowerPoint. Within your team, you can either nominate a single presenter or allow team members to take turns presenting.\n",
    "\n",
    "I will be traveling and out of campus on Oct12, so we will do the presentation online through zoom. Here is the link:\n",
    "\n",
    "Topic: Project Stage II presentation\n",
    "Time: Oct 12, 2023 08:00 AM Eastern Time (US and Canada)\n",
    "\n",
    "Join Zoom Meeting\n",
    "https://uncg.zoom.us/j/99719399822?pwd=UjVxL3NmT3VqYllOOFNjMWpNUkFFQT09\n",
    "\n",
    "Meeting ID: 997 1939 9822\n",
    "Passcode: 285051\n",
    "\n",
    "Please note that it's crucial for all team members to be present during the presentation. The instructor might pose questions that require input from any team member, so your collective presence is valuable. Look forward to your insightful presentations! "
   ]
  },
  {
   "cell_type": "markdown",
   "metadata": {},
   "source": [
    "Presentation order:"
   ]
  },
  {
   "cell_type": "code",
   "execution_count": 1,
   "metadata": {},
   "outputs": [
    {
     "name": "stdout",
     "output_type": "stream",
     "text": [
      "Presentation 1: Group 1\n",
      "Presentation 2: Group 7\n",
      "Presentation 3: Group 8\n",
      "Presentation 4: Group 5\n",
      "Presentation 5: Group 6\n",
      "Presentation 6: Group 2\n",
      "Presentation 7: Group 3\n",
      "Presentation 8: Group 4\n"
     ]
    }
   ],
   "source": [
    "import random\n",
    "group = ['Group 1','Group 2','Group 3','Group 4','Group 5','Group 6','Group 7','Group 8']\n",
    "random.shuffle(group)\n",
    "for i, group in enumerate(group, start=1):\n",
    "    print(f\"Presentation {i}: {group}\")"
   ]
  }
 ],
 "metadata": {
  "kernelspec": {
   "display_name": "Python 3 (ipykernel)",
   "language": "python",
   "name": "python3"
  },
  "language_info": {
   "codemirror_mode": {
    "name": "ipython",
    "version": 3
   },
   "file_extension": ".py",
   "mimetype": "text/x-python",
   "name": "python",
   "nbconvert_exporter": "python",
   "pygments_lexer": "ipython3",
   "version": "3.9.13"
  },
  "nteract": {
   "version": "0.28.0"
  }
 },
 "nbformat": 4,
 "nbformat_minor": 2
}
