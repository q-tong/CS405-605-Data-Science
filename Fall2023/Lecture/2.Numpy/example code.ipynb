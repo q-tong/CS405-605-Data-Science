{
 "cells": [
  {
   "cell_type": "code",
   "execution_count": 1,
   "id": "2d5decb3",
   "metadata": {},
   "outputs": [
    {
     "name": "stdout",
     "output_type": "stream",
     "text": [
      "Array:\n",
      "[[1 2 3]\n",
      " [4 5 6]\n",
      " [7 8 9]]\n",
      "\n",
      "Array Shape: (3, 3)\n",
      "Array Size: 9\n",
      "Array Data Type: int64\n"
     ]
    }
   ],
   "source": [
    "import numpy as np\n",
    "\n",
    "# Create a NumPy array\n",
    "my_array = np.array([[1, 2, 3],\n",
    "                     [4, 5, 6],\n",
    "                     [7, 8, 9]])\n",
    "\n",
    "# Accessing Array Properties\n",
    "array_shape = my_array.shape  # Shape of the array (dimensions)\n",
    "array_size = my_array.size    # Size of the array (total number of elements)\n",
    "array_dtype = my_array.dtype  # Data type of the elements in the array\n",
    "\n",
    "# Printing Array Properties\n",
    "print(\"Array:\")\n",
    "print(my_array)\n",
    "print(\"\\nArray Shape:\", array_shape)\n",
    "print(\"Array Size:\", array_size)\n",
    "print(\"Array Data Type:\", array_dtype)\n"
   ]
  },
  {
   "cell_type": "code",
   "execution_count": 2,
   "id": "fd597ffc",
   "metadata": {},
   "outputs": [
    {
     "name": "stdout",
     "output_type": "stream",
     "text": [
      "Array 1:\n",
      "[[1 2 3]\n",
      " [4 5 6]\n",
      " [7 8 9]]\n",
      "\n",
      "Array 2:\n",
      "[[9 8 7]\n",
      " [6 5 4]\n",
      " [3 2 1]]\n",
      "\n",
      "Array Addition:\n",
      "[[10 10 10]\n",
      " [10 10 10]\n",
      " [10 10 10]]\n",
      "\n",
      "Array Subtraction:\n",
      "[[-8 -6 -4]\n",
      " [-2  0  2]\n",
      " [ 4  6  8]]\n",
      "\n",
      "Array Multiplication:\n",
      "[[ 9 16 21]\n",
      " [24 25 24]\n",
      " [21 16  9]]\n",
      "\n",
      "Array Division:\n",
      "[[0.11111111 0.25       0.42857143]\n",
      " [0.66666667 1.         1.5       ]\n",
      " [2.33333333 4.         9.        ]]\n"
     ]
    }
   ],
   "source": [
    "import numpy as np\n",
    "\n",
    "# Create two NumPy arrays\n",
    "array1 = np.array([[1, 2, 3],\n",
    "                   [4, 5, 6],\n",
    "                   [7, 8, 9]])\n",
    "\n",
    "array2 = np.array([[9, 8, 7],\n",
    "                   [6, 5, 4],\n",
    "                   [3, 2, 1]])\n",
    "\n",
    "# Perform Array Operations\n",
    "array_addition = array1 + array2\n",
    "array_subtraction = array1 - array2\n",
    "array_multiplication = array1 * array2\n",
    "array_division = array1 / array2\n",
    "\n",
    "# Printing Results\n",
    "print(\"Array 1:\")\n",
    "print(array1)\n",
    "print(\"\\nArray 2:\")\n",
    "print(array2)\n",
    "\n",
    "print(\"\\nArray Addition:\")\n",
    "print(array_addition)\n",
    "\n",
    "print(\"\\nArray Subtraction:\")\n",
    "print(array_subtraction)\n",
    "\n",
    "print(\"\\nArray Multiplication:\")\n",
    "print(array_multiplication)\n",
    "\n",
    "print(\"\\nArray Division:\")\n",
    "print(array_division)"
   ]
  },
  {
   "cell_type": "code",
   "execution_count": 5,
   "id": "78669f83",
   "metadata": {},
   "outputs": [
    {
     "name": "stdout",
     "output_type": "stream",
     "text": [
      "Matrix 1:\n",
      "[[0.11375134 0.59385753 0.95056089 0.88470112 0.36920745]\n",
      " [0.70330434 0.47158135 0.50950612 0.39875395 0.8506669 ]\n",
      " [0.28143272 0.51721639 0.90002967 0.80633582 0.95898317]\n",
      " [0.78550522 0.44556475 0.87063692 0.15821857 0.9176677 ]\n",
      " [0.39616018 0.49859386 0.79323223 0.24351393 0.37399191]]\n",
      "\n",
      "Matrix 2:\n",
      "[[0.25197668 0.85783221 0.51405033 0.64106111 0.4893183 ]\n",
      " [0.14552214 0.45185413 0.6776783  0.41929789 0.31264726]\n",
      " [0.0283149  0.21141357 0.84100064 0.12170041 0.40641155]\n",
      " [0.87361665 0.40741922 0.80114702 0.99388779 0.85181818]\n",
      " [0.19169379 0.37712256 0.291272   0.97894457 0.9583435 ]]\n",
      "\n",
      "Result Matrix1:\n",
      "[[0.98566155 1.06655873 2.07665606 1.67833569 1.73507953]\n",
      " [0.77169409 1.40738532 1.67684523 1.93967365 1.85354442]\n",
      " [1.05992469 1.35557782 2.17742093 2.24701598 2.27108572]\n",
      " [0.60155411 1.4697609  1.83199223 1.85193539 1.89171791]\n",
      " [0.47926962 0.97308376 1.51266515 1.1677018  1.23795348]]\n",
      "\n",
      "Result Matrix2:\n",
      "[[0.98566155 1.06655873 2.07665606 1.67833569 1.73507953]\n",
      " [0.77169409 1.40738532 1.67684523 1.93967365 1.85354442]\n",
      " [1.05992469 1.35557782 2.17742093 2.24701598 2.27108572]\n",
      " [0.60155411 1.4697609  1.83199223 1.85193539 1.89171791]\n",
      " [0.47926962 0.97308376 1.51266515 1.1677018  1.23795348]]\n",
      "\n",
      "Result Matrix3:\n",
      "[[0.02866269 0.50943012 0.48863614 0.56714749 0.18065996]\n",
      " [0.10234635 0.21308598 0.34528124 0.16719669 0.26595867]\n",
      " [0.00796874 0.10934657 0.75692553 0.0981314  0.38974184]\n",
      " [0.68623044 0.18153164 0.69750818 0.1572515  0.78168604]\n",
      " [0.07594145 0.188031   0.23104634 0.23838664 0.35841272]]\n"
     ]
    }
   ],
   "source": [
    "import numpy as np\n",
    "\n",
    "# Generate two random 5x5 matrices\n",
    "matrix1 = np.random.rand(5, 5)\n",
    "matrix2 = np.random.rand(5, 5)\n",
    "\n",
    "# Perform matrix multiplication\n",
    "result_matrix1 = np.dot(matrix1, matrix2)\n",
    "\n",
    "# Alternatively, you can use the @ operator for matrix multiplication\n",
    "result_matrix2 = matrix1 @ matrix2\n",
    "\n",
    "# Perform element-wise multiplication\n",
    "result_matrix3 = matrix1 * matrix2\n",
    "\n",
    "print(\"Matrix 1:\")\n",
    "print(matrix1)\n",
    "print(\"\\nMatrix 2:\")\n",
    "print(matrix2)\n",
    "print(\"\\nResult Matrix1:\")\n",
    "print(result_matrix1)\n",
    "print(\"\\nResult Matrix2:\")\n",
    "print(result_matrix2)\n",
    "print(\"\\nResult Matrix3:\")\n",
    "print(result_matrix3)"
   ]
  },
  {
   "cell_type": "code",
   "execution_count": 3,
   "id": "4dbdc7de",
   "metadata": {},
   "outputs": [
    {
     "name": "stdout",
     "output_type": "stream",
     "text": [
      "[0.37454012 0.95071431 0.73199394 0.59865848 0.15601864]\n",
      "[0.37454012 0.95071431 0.73199394 0.59865848 0.15601864]\n"
     ]
    }
   ],
   "source": [
    "import numpy as np\n",
    "\n",
    "# Set the random seed to 42\n",
    "np.random.seed(42)\n",
    "\n",
    "# Generate random numbers\n",
    "random_numbers1 = np.random.rand(5)\n",
    "print(random_numbers1)\n",
    "\n",
    "# Reset the seed to 42 and generate again\n",
    "np.random.seed(42)\n",
    "random_numbers2 = np.random.rand(5)\n",
    "print(random_numbers2)\n"
   ]
  },
  {
   "cell_type": "code",
   "execution_count": null,
   "id": "231263c3",
   "metadata": {},
   "outputs": [],
   "source": []
  }
 ],
 "metadata": {
  "kernelspec": {
   "display_name": "Python 3 (ipykernel)",
   "language": "python",
   "name": "python3"
  },
  "language_info": {
   "codemirror_mode": {
    "name": "ipython",
    "version": 3
   },
   "file_extension": ".py",
   "mimetype": "text/x-python",
   "name": "python",
   "nbconvert_exporter": "python",
   "pygments_lexer": "ipython3",
   "version": "3.9.13"
  }
 },
 "nbformat": 4,
 "nbformat_minor": 5
}
